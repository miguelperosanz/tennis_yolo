{
 "cells": [
  {
   "cell_type": "markdown",
   "metadata": {},
   "source": [
    "# Get Dataset"
   ]
  },
  {
   "cell_type": "code",
   "execution_count": null,
   "metadata": {},
   "outputs": [],
   "source": [
    "%pip install roboflow"
   ]
  },
  {
   "cell_type": "code",
   "execution_count": 2,
   "metadata": {},
   "outputs": [
    {
     "name": "stdout",
     "output_type": "stream",
     "text": [
      "Requirement already satisfied: roboflow in /home/miguel/python_scripts/tennis_yolo/.conda/lib/python3.11/site-packages (1.1.25)\n",
      "Requirement already satisfied: certifi==2023.7.22 in /home/miguel/python_scripts/tennis_yolo/.conda/lib/python3.11/site-packages (from roboflow) (2023.7.22)\n",
      "Requirement already satisfied: chardet==4.0.0 in /home/miguel/python_scripts/tennis_yolo/.conda/lib/python3.11/site-packages (from roboflow) (4.0.0)\n",
      "Requirement already satisfied: cycler==0.10.0 in /home/miguel/python_scripts/tennis_yolo/.conda/lib/python3.11/site-packages (from roboflow) (0.10.0)\n",
      "Requirement already satisfied: idna==2.10 in /home/miguel/python_scripts/tennis_yolo/.conda/lib/python3.11/site-packages (from roboflow) (2.10)\n",
      "Requirement already satisfied: kiwisolver>=1.3.1 in /home/miguel/python_scripts/tennis_yolo/.conda/lib/python3.11/site-packages (from roboflow) (1.4.5)\n",
      "Requirement already satisfied: matplotlib in /home/miguel/python_scripts/tennis_yolo/.conda/lib/python3.11/site-packages (from roboflow) (3.8.3)\n",
      "Requirement already satisfied: numpy>=1.18.5 in /home/miguel/python_scripts/tennis_yolo/.conda/lib/python3.11/site-packages (from roboflow) (1.26.4)\n",
      "Requirement already satisfied: opencv-python-headless==4.8.0.74 in /home/miguel/python_scripts/tennis_yolo/.conda/lib/python3.11/site-packages (from roboflow) (4.8.0.74)\n",
      "Requirement already satisfied: Pillow>=7.1.2 in /home/miguel/python_scripts/tennis_yolo/.conda/lib/python3.11/site-packages (from roboflow) (10.2.0)\n",
      "Requirement already satisfied: python-dateutil in /home/miguel/python_scripts/tennis_yolo/.conda/lib/python3.11/site-packages (from roboflow) (2.9.0)\n",
      "Requirement already satisfied: python-dotenv in /home/miguel/python_scripts/tennis_yolo/.conda/lib/python3.11/site-packages (from roboflow) (1.0.1)\n",
      "Requirement already satisfied: requests in /home/miguel/python_scripts/tennis_yolo/.conda/lib/python3.11/site-packages (from roboflow) (2.31.0)\n",
      "Requirement already satisfied: six in /home/miguel/python_scripts/tennis_yolo/.conda/lib/python3.11/site-packages (from roboflow) (1.16.0)\n",
      "Requirement already satisfied: urllib3>=1.26.6 in /home/miguel/python_scripts/tennis_yolo/.conda/lib/python3.11/site-packages (from roboflow) (2.2.1)\n",
      "Requirement already satisfied: tqdm>=4.41.0 in /home/miguel/python_scripts/tennis_yolo/.conda/lib/python3.11/site-packages (from roboflow) (4.66.2)\n",
      "Requirement already satisfied: PyYAML>=5.3.1 in /home/miguel/python_scripts/tennis_yolo/.conda/lib/python3.11/site-packages (from roboflow) (6.0.1)\n",
      "Requirement already satisfied: requests-toolbelt in /home/miguel/python_scripts/tennis_yolo/.conda/lib/python3.11/site-packages (from roboflow) (1.0.0)\n",
      "Requirement already satisfied: python-magic in /home/miguel/python_scripts/tennis_yolo/.conda/lib/python3.11/site-packages (from roboflow) (0.4.27)\n",
      "Requirement already satisfied: contourpy>=1.0.1 in /home/miguel/python_scripts/tennis_yolo/.conda/lib/python3.11/site-packages (from matplotlib->roboflow) (1.2.0)\n",
      "Requirement already satisfied: fonttools>=4.22.0 in /home/miguel/python_scripts/tennis_yolo/.conda/lib/python3.11/site-packages (from matplotlib->roboflow) (4.50.0)\n",
      "Requirement already satisfied: packaging>=20.0 in /home/miguel/python_scripts/tennis_yolo/.conda/lib/python3.11/site-packages (from matplotlib->roboflow) (24.0)\n",
      "Requirement already satisfied: pyparsing>=2.3.1 in /home/miguel/python_scripts/tennis_yolo/.conda/lib/python3.11/site-packages (from matplotlib->roboflow) (3.1.2)\n",
      "Requirement already satisfied: charset-normalizer<4,>=2 in /home/miguel/python_scripts/tennis_yolo/.conda/lib/python3.11/site-packages (from requests->roboflow) (3.3.2)\n",
      "Note: you may need to restart the kernel to use updated packages.\n",
      "loading Roboflow workspace...\n",
      "loading Roboflow project...\n"
     ]
    }
   ],
   "source": [
    "from roboflow import Roboflow\n",
    "rf = Roboflow(api_key=\"IUK73nbPzodutolCknZA\")\n",
    "project = rf.workspace(\"viren-dhanwani\").project(\"tennis-ball-detection\")\n",
    "version = project.version(6)\n",
    "dataset = version.download(\"yolov5\")"
   ]
  },
  {
   "cell_type": "code",
   "execution_count": 7,
   "metadata": {},
   "outputs": [
    {
     "data": {
      "text/plain": [
       "<roboflow.core.dataset.Dataset at 0x7f686437e710>"
      ]
     },
     "execution_count": 7,
     "metadata": {},
     "output_type": "execute_result"
    }
   ],
   "source": [
    "dataset"
   ]
  },
  {
   "cell_type": "code",
   "execution_count": 8,
   "metadata": {},
   "outputs": [
    {
     "name": "stdout",
     "output_type": "stream",
     "text": [
      "Traceback (most recent call last):\n",
      "  File \"/home/miguel/python_scripts/tennis_yolo/.conda/bin/yolo\", line 5, in <module>\n",
      "    from yolo.script import cli\n",
      "  File \"/home/miguel/python_scripts/tennis_yolo/.conda/lib/python3.11/site-packages/yolo/script.py\", line 20, in <module>\n",
      "    from yolo import client\n",
      "  File \"/home/miguel/python_scripts/tennis_yolo/.conda/lib/python3.11/site-packages/yolo/client.py\", line 39, in <module>\n",
      "    import keyring\n",
      "  File \"/home/miguel/python_scripts/tennis_yolo/.conda/lib/python3.11/site-packages/keyring/__init__.py\", line 6, in <module>\n",
      "    from .core import (set_keyring, get_keyring, set_password, get_password,\n",
      "  File \"/home/miguel/python_scripts/tennis_yolo/.conda/lib/python3.11/site-packages/keyring/core.py\", line 14, in <module>\n",
      "    from . import backend\n",
      "  File \"/home/miguel/python_scripts/tennis_yolo/.conda/lib/python3.11/site-packages/keyring/backend.py\", line 18, in <module>\n",
      "    from .util import properties\n",
      "  File \"/home/miguel/python_scripts/tennis_yolo/.conda/lib/python3.11/site-packages/keyring/util/properties.py\", line 1, in <module>\n",
      "    from collections import Callable\n",
      "ImportError: cannot import name 'Callable' from 'collections' (/home/miguel/python_scripts/tennis_yolo/.conda/lib/python3.11/collections/__init__.py)\n"
     ]
    }
   ],
   "source": [
    "!yolo"
   ]
  },
  {
   "cell_type": "code",
   "execution_count": 1,
   "metadata": {},
   "outputs": [
    {
     "name": "stdout",
     "output_type": "stream",
     "text": [
      "Traceback (most recent call last):\n",
      "  File \"/home/miguel/python_scripts/tennis_yolo/.conda/bin/yolo\", line 5, in <module>\n",
      "    from yolo.script import cli\n",
      "  File \"/home/miguel/python_scripts/tennis_yolo/.conda/lib/python3.11/site-packages/yolo/script.py\", line 20, in <module>\n",
      "    from yolo import client\n",
      "  File \"/home/miguel/python_scripts/tennis_yolo/.conda/lib/python3.11/site-packages/yolo/client.py\", line 39, in <module>\n",
      "    import keyring\n",
      "  File \"/home/miguel/python_scripts/tennis_yolo/.conda/lib/python3.11/site-packages/keyring/__init__.py\", line 6, in <module>\n",
      "    from .core import (set_keyring, get_keyring, set_password, get_password,\n",
      "  File \"/home/miguel/python_scripts/tennis_yolo/.conda/lib/python3.11/site-packages/keyring/core.py\", line 14, in <module>\n",
      "    from . import backend\n",
      "  File \"/home/miguel/python_scripts/tennis_yolo/.conda/lib/python3.11/site-packages/keyring/backend.py\", line 18, in <module>\n",
      "    from .util import properties\n",
      "  File \"/home/miguel/python_scripts/tennis_yolo/.conda/lib/python3.11/site-packages/keyring/util/properties.py\", line 1, in <module>\n",
      "    from collections import Callable\n",
      "ImportError: cannot import name 'Callable' from 'collections' (/home/miguel/python_scripts/tennis_yolo/.conda/lib/python3.11/collections/__init__.py)\n"
     ]
    }
   ],
   "source": [
    "!yolo"
   ]
  },
  {
   "cell_type": "code",
   "execution_count": 2,
   "metadata": {},
   "outputs": [
    {
     "name": "stdout",
     "output_type": "stream",
     "text": [
      "Traceback (most recent call last):\n",
      "  File \"/home/miguel/python_scripts/tennis_yolo/.conda/bin/yolo\", line 5, in <module>\n",
      "    from yolo.script import cli\n",
      "  File \"/home/miguel/python_scripts/tennis_yolo/.conda/lib/python3.11/site-packages/yolo/script.py\", line 20, in <module>\n",
      "    from yolo import client\n",
      "  File \"/home/miguel/python_scripts/tennis_yolo/.conda/lib/python3.11/site-packages/yolo/client.py\", line 39, in <module>\n",
      "    import keyring\n",
      "  File \"/home/miguel/python_scripts/tennis_yolo/.conda/lib/python3.11/site-packages/keyring/__init__.py\", line 6, in <module>\n",
      "    from .core import (set_keyring, get_keyring, set_password, get_password,\n",
      "  File \"/home/miguel/python_scripts/tennis_yolo/.conda/lib/python3.11/site-packages/keyring/core.py\", line 14, in <module>\n",
      "    from . import backend\n",
      "  File \"/home/miguel/python_scripts/tennis_yolo/.conda/lib/python3.11/site-packages/keyring/backend.py\", line 18, in <module>\n",
      "    from .util import properties\n",
      "  File \"/home/miguel/python_scripts/tennis_yolo/.conda/lib/python3.11/site-packages/keyring/util/properties.py\", line 1, in <module>\n",
      "    from collections import Callable\n",
      "ImportError: cannot import name 'Callable' from 'collections' (/home/miguel/python_scripts/tennis_yolo/.conda/lib/python3.11/collections/__init__.py)\n"
     ]
    }
   ],
   "source": [
    "!yolo"
   ]
  },
  {
   "cell_type": "code",
   "execution_count": null,
   "metadata": {},
   "outputs": [],
   "source": []
  }
 ],
 "metadata": {
  "kernelspec": {
   "display_name": "Python 3",
   "language": "python",
   "name": "python3"
  },
  "language_info": {
   "codemirror_mode": {
    "name": "ipython",
    "version": 3
   },
   "file_extension": ".py",
   "mimetype": "text/x-python",
   "name": "python",
   "nbconvert_exporter": "python",
   "pygments_lexer": "ipython3",
   "version": "3.11.8"
  }
 },
 "nbformat": 4,
 "nbformat_minor": 2
}
