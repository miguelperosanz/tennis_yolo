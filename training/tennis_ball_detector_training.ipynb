{
 "cells": [
  {
   "cell_type": "markdown",
   "metadata": {},
   "source": [
    "# Get Dataset"
   ]
  },
  {
   "cell_type": "markdown",
   "metadata": {},
   "source": [
    "#Esto lo ejecuté desde la gpu de la kaggle account"
   ]
  },
  {
   "cell_type": "code",
   "execution_count": 13,
   "metadata": {},
   "outputs": [
    {
     "name": "stdout",
     "output_type": "stream",
     "text": [
      "Using device: cuda\n"
     ]
    }
   ],
   "source": [
    "import torch\n",
    "\n",
    "#The code then prints out which device is being used. If you see \"cuda\", then PyTorch is using the GPU. If you see \"cpu\", then PyTorch is using the CPU.\n",
    "\n",
    "device = torch.device(\"cuda\" if torch.cuda.is_available() else \"cpu\")\n",
    "print(f\"Using device: {device}\")"
   ]
  },
  {
   "cell_type": "code",
   "execution_count": 14,
   "metadata": {},
   "outputs": [
    {
     "name": "stdout",
     "output_type": "stream",
     "text": [
      "Requirement already satisfied: roboflow in /home/miguel/anaconda3/envs/yolo/lib/python3.11/site-packages (1.1.26)\n",
      "Requirement already satisfied: certifi==2023.7.22 in /home/miguel/anaconda3/envs/yolo/lib/python3.11/site-packages (from roboflow) (2023.7.22)\n",
      "Requirement already satisfied: chardet==4.0.0 in /home/miguel/anaconda3/envs/yolo/lib/python3.11/site-packages (from roboflow) (4.0.0)\n",
      "Requirement already satisfied: cycler==0.10.0 in /home/miguel/anaconda3/envs/yolo/lib/python3.11/site-packages (from roboflow) (0.10.0)\n",
      "Requirement already satisfied: idna==2.10 in /home/miguel/anaconda3/envs/yolo/lib/python3.11/site-packages (from roboflow) (2.10)\n",
      "Requirement already satisfied: kiwisolver>=1.3.1 in /home/miguel/anaconda3/envs/yolo/lib/python3.11/site-packages (from roboflow) (1.4.5)\n",
      "Requirement already satisfied: matplotlib in /home/miguel/anaconda3/envs/yolo/lib/python3.11/site-packages (from roboflow) (3.8.3)\n",
      "Requirement already satisfied: numpy>=1.18.5 in /home/miguel/anaconda3/envs/yolo/lib/python3.11/site-packages (from roboflow) (1.26.4)\n",
      "Requirement already satisfied: opencv-python-headless==4.8.0.74 in /home/miguel/anaconda3/envs/yolo/lib/python3.11/site-packages (from roboflow) (4.8.0.74)\n",
      "Requirement already satisfied: Pillow>=7.1.2 in /home/miguel/anaconda3/envs/yolo/lib/python3.11/site-packages (from roboflow) (10.2.0)\n",
      "Requirement already satisfied: python-dateutil in /home/miguel/anaconda3/envs/yolo/lib/python3.11/site-packages (from roboflow) (2.8.2)\n",
      "Requirement already satisfied: python-dotenv in /home/miguel/anaconda3/envs/yolo/lib/python3.11/site-packages (from roboflow) (1.0.1)\n",
      "Requirement already satisfied: requests in /home/miguel/anaconda3/envs/yolo/lib/python3.11/site-packages (from roboflow) (2.31.0)\n",
      "Requirement already satisfied: six in /home/miguel/anaconda3/envs/yolo/lib/python3.11/site-packages (from roboflow) (1.16.0)\n",
      "Requirement already satisfied: urllib3>=1.26.6 in /home/miguel/anaconda3/envs/yolo/lib/python3.11/site-packages (from roboflow) (2.1.0)\n",
      "Requirement already satisfied: tqdm>=4.41.0 in /home/miguel/anaconda3/envs/yolo/lib/python3.11/site-packages (from roboflow) (4.66.2)\n",
      "Requirement already satisfied: PyYAML>=5.3.1 in /home/miguel/anaconda3/envs/yolo/lib/python3.11/site-packages (from roboflow) (6.0.1)\n",
      "Requirement already satisfied: requests-toolbelt in /home/miguel/anaconda3/envs/yolo/lib/python3.11/site-packages (from roboflow) (1.0.0)\n",
      "Requirement already satisfied: python-magic in /home/miguel/anaconda3/envs/yolo/lib/python3.11/site-packages (from roboflow) (0.4.27)\n",
      "Requirement already satisfied: contourpy>=1.0.1 in /home/miguel/anaconda3/envs/yolo/lib/python3.11/site-packages (from matplotlib->roboflow) (1.2.0)\n",
      "Requirement already satisfied: fonttools>=4.22.0 in /home/miguel/anaconda3/envs/yolo/lib/python3.11/site-packages (from matplotlib->roboflow) (4.50.0)\n",
      "Requirement already satisfied: packaging>=20.0 in /home/miguel/anaconda3/envs/yolo/lib/python3.11/site-packages (from matplotlib->roboflow) (23.2)\n",
      "Requirement already satisfied: pyparsing>=2.3.1 in /home/miguel/anaconda3/envs/yolo/lib/python3.11/site-packages (from matplotlib->roboflow) (3.1.2)\n",
      "Requirement already satisfied: charset-normalizer<4,>=2 in /home/miguel/anaconda3/envs/yolo/lib/python3.11/site-packages (from requests->roboflow) (2.0.4)\n",
      "Note: you may need to restart the kernel to use updated packages.\n"
     ]
    }
   ],
   "source": [
    "%pip install roboflow"
   ]
  },
  {
   "cell_type": "code",
   "execution_count": 15,
   "metadata": {},
   "outputs": [
    {
     "name": "stdout",
     "output_type": "stream",
     "text": [
      "loading Roboflow workspace...\n",
      "loading Roboflow project...\n"
     ]
    }
   ],
   "source": [
    "from roboflow import Roboflow\n",
    "rf = Roboflow(api_key=\"IUK73nbPzodutolCknZA\")\n",
    "project = rf.workspace(\"viren-dhanwani\").project(\"tennis-ball-detection\")\n",
    "version = project.version(6)\n",
    "dataset = version.download(\"yolov5\")"
   ]
  },
  {
   "cell_type": "code",
   "execution_count": 16,
   "metadata": {},
   "outputs": [
    {
     "name": "stdout",
     "output_type": "stream",
     "text": [
      "New https://pypi.org/project/ultralytics/8.1.37 available 😃 Update with 'pip install -U ultralytics'\n",
      "Ultralytics YOLOv8.1.33 🚀 Python-3.11.8 torch-2.2.1+cu121 CUDA:0 (NVIDIA GeForce RTX 4050 Laptop GPU, 5695MiB)\n",
      "\u001b[34m\u001b[1mengine/trainer: \u001b[0mtask=detect, mode=train, model=yolov5l6u.pt, data=/home/miguel/python_scripts/tennis_yolo/training/tennis-ball-detection-6/data.yaml, epochs=100, time=None, patience=100, batch=16, imgsz=640, save=True, save_period=-1, cache=False, device=None, workers=8, project=None, name=train19, exist_ok=False, pretrained=True, optimizer=auto, verbose=True, seed=0, deterministic=True, single_cls=False, rect=False, cos_lr=False, close_mosaic=10, resume=False, amp=True, fraction=1.0, profile=False, freeze=None, multi_scale=False, overlap_mask=True, mask_ratio=4, dropout=0.0, val=True, split=val, save_json=False, save_hybrid=False, conf=None, iou=0.7, max_det=300, half=False, dnn=False, plots=True, source=None, vid_stride=1, stream_buffer=False, visualize=False, augment=False, agnostic_nms=False, classes=None, retina_masks=False, embed=None, show=False, save_frames=False, save_txt=False, save_conf=False, save_crop=False, show_labels=True, show_conf=True, show_boxes=True, line_width=None, format=torchscript, keras=False, optimize=False, int8=False, dynamic=False, simplify=False, opset=None, workspace=4, nms=False, lr0=0.01, lrf=0.01, momentum=0.937, weight_decay=0.0005, warmup_epochs=3.0, warmup_momentum=0.8, warmup_bias_lr=0.1, box=7.5, cls=0.5, dfl=1.5, pose=12.0, kobj=1.0, label_smoothing=0.0, nbs=64, hsv_h=0.015, hsv_s=0.7, hsv_v=0.4, degrees=0.0, translate=0.1, scale=0.5, shear=0.0, perspective=0.0, flipud=0.0, fliplr=0.5, bgr=0.0, mosaic=1.0, mixup=0.0, copy_paste=0.0, auto_augment=randaugment, erasing=0.4, crop_fraction=1.0, cfg=None, tracker=botsort.yaml, save_dir=runs/detect/train19\n",
      "Overriding model.yaml nc=80 with nc=1\n",
      "\n",
      "                   from  n    params  module                                       arguments                     \n",
      "  0                  -1  1      7040  ultralytics.nn.modules.conv.Conv             [3, 64, 6, 2, 2]              \n",
      "  1                  -1  1     73984  ultralytics.nn.modules.conv.Conv             [64, 128, 3, 2]               \n",
      "  2                  -1  3    156928  ultralytics.nn.modules.block.C3              [128, 128, 3]                 \n",
      "  3                  -1  1    295424  ultralytics.nn.modules.conv.Conv             [128, 256, 3, 2]              \n",
      "  4                  -1  6   1118208  ultralytics.nn.modules.block.C3              [256, 256, 6]                 \n",
      "  5                  -1  1   1180672  ultralytics.nn.modules.conv.Conv             [256, 512, 3, 2]              \n",
      "  6                  -1  9   6433792  ultralytics.nn.modules.block.C3              [512, 512, 9]                 \n",
      "  7                  -1  1   3540480  ultralytics.nn.modules.conv.Conv             [512, 768, 3, 2]              \n",
      "  8                  -1  3   5611008  ultralytics.nn.modules.block.C3              [768, 768, 3]                 \n",
      "  9                  -1  1   7079936  ultralytics.nn.modules.conv.Conv             [768, 1024, 3, 2]             \n",
      " 10                  -1  3   9971712  ultralytics.nn.modules.block.C3              [1024, 1024, 3]               \n",
      " 11                  -1  1   2624512  ultralytics.nn.modules.block.SPPF            [1024, 1024, 5]               \n",
      " 12                  -1  1    787968  ultralytics.nn.modules.conv.Conv             [1024, 768, 1, 1]             \n",
      " 13                  -1  1         0  torch.nn.modules.upsampling.Upsample         [None, 2, 'nearest']          \n",
      " 14             [-1, 8]  1         0  ultralytics.nn.modules.conv.Concat           [1]                           \n",
      " 15                  -1  3   6200832  ultralytics.nn.modules.block.C3              [1536, 768, 3, False]         \n",
      " 16                  -1  1    394240  ultralytics.nn.modules.conv.Conv             [768, 512, 1, 1]              \n",
      " 17                  -1  1         0  torch.nn.modules.upsampling.Upsample         [None, 2, 'nearest']          \n",
      " 18             [-1, 6]  1         0  ultralytics.nn.modules.conv.Concat           [1]                           \n",
      " 19                  -1  3   2757632  ultralytics.nn.modules.block.C3              [1024, 512, 3, False]         \n",
      " 20                  -1  1    131584  ultralytics.nn.modules.conv.Conv             [512, 256, 1, 1]              \n",
      " 21                  -1  1         0  torch.nn.modules.upsampling.Upsample         [None, 2, 'nearest']          \n",
      " 22             [-1, 4]  1         0  ultralytics.nn.modules.conv.Concat           [1]                           \n",
      " 23                  -1  3    690688  ultralytics.nn.modules.block.C3              [512, 256, 3, False]          \n",
      " 24                  -1  1    590336  ultralytics.nn.modules.conv.Conv             [256, 256, 3, 2]              \n",
      " 25            [-1, 20]  1         0  ultralytics.nn.modules.conv.Concat           [1]                           \n",
      " 26                  -1  3   2495488  ultralytics.nn.modules.block.C3              [512, 512, 3, False]          \n",
      " 27                  -1  1   2360320  ultralytics.nn.modules.conv.Conv             [512, 512, 3, 2]              \n",
      " 28            [-1, 16]  1         0  ultralytics.nn.modules.conv.Concat           [1]                           \n",
      " 29                  -1  3   5807616  ultralytics.nn.modules.block.C3              [1024, 768, 3, False]         \n",
      " 30                  -1  1   5309952  ultralytics.nn.modules.conv.Conv             [768, 768, 3, 2]              \n",
      " 31            [-1, 12]  1         0  ultralytics.nn.modules.conv.Concat           [1]                           \n",
      " 32                  -1  3  10496000  ultralytics.nn.modules.block.C3              [1536, 1024, 3, False]        \n",
      " 33    [23, 26, 29, 32]  1   9902356  ultralytics.nn.modules.head.Detect           [1, [256, 512, 768, 1024]]    \n",
      "YOLOv5l6u summary: 540 layers, 86018708 parameters, 86018692 gradients, 137.7 GFLOPs\n",
      "\n",
      "Transferred 891/899 items from pretrained weights\n",
      "Freezing layer 'model.33.dfl.conv.weight'\n",
      "\u001b[34m\u001b[1mAMP: \u001b[0mrunning Automatic Mixed Precision (AMP) checks with YOLOv8n...\n",
      "\u001b[34m\u001b[1mAMP: \u001b[0mchecks passed ✅\n",
      "\u001b[34m\u001b[1mtrain: \u001b[0mScanning /home/miguel/python_scripts/tennis_yolo/training/tennis-ball-det\u001b[0m\n",
      "\u001b[34m\u001b[1mval: \u001b[0mScanning /home/miguel/python_scripts/tennis_yolo/training/tennis-ball-detec\u001b[0m\n",
      "Plotting labels to runs/detect/train19/labels.jpg... \n",
      "\u001b[34m\u001b[1moptimizer:\u001b[0m 'optimizer=auto' found, ignoring 'lr0=0.01' and 'momentum=0.937' and determining best 'optimizer', 'lr0' and 'momentum' automatically... \n",
      "\u001b[34m\u001b[1moptimizer:\u001b[0m AdamW(lr=0.002, momentum=0.9) with parameter groups 147 weight(decay=0.0), 156 weight(decay=0.0005), 155 bias(decay=0.0)\n",
      "Image sizes 640 train, 640 val\n",
      "Using 8 dataloader workers\n",
      "Logging results to \u001b[1mruns/detect/train19\u001b[0m\n",
      "Starting training for 100 epochs...\n",
      "\n",
      "      Epoch    GPU_mem   box_loss   cls_loss   dfl_loss  Instances       Size\n",
      "  0%|          | 0/27 [00:00<?, ?it/s]\n",
      "Traceback (most recent call last):\n",
      "  File \"/home/miguel/anaconda3/envs/yolo/bin/yolo\", line 8, in <module>\n",
      "    sys.exit(entrypoint())\n",
      "             ^^^^^^^^^^^^\n",
      "  File \"/home/miguel/anaconda3/envs/yolo/lib/python3.11/site-packages/ultralytics/cfg/__init__.py\", line 582, in entrypoint\n",
      "    getattr(model, mode)(**overrides)  # default args from model\n",
      "    ^^^^^^^^^^^^^^^^^^^^^^^^^^^^^^^^^\n",
      "  File \"/home/miguel/anaconda3/envs/yolo/lib/python3.11/site-packages/ultralytics/engine/model.py\", line 657, in train\n",
      "    self.trainer.train()\n",
      "  File \"/home/miguel/anaconda3/envs/yolo/lib/python3.11/site-packages/ultralytics/engine/trainer.py\", line 213, in train\n",
      "    self._do_train(world_size)\n",
      "  File \"/home/miguel/anaconda3/envs/yolo/lib/python3.11/site-packages/ultralytics/engine/trainer.py\", line 381, in _do_train\n",
      "    self.loss, self.loss_items = self.model(batch)\n",
      "                                 ^^^^^^^^^^^^^^^^^\n",
      "  File \"/home/miguel/anaconda3/envs/yolo/lib/python3.11/site-packages/torch/nn/modules/module.py\", line 1511, in _wrapped_call_impl\n",
      "    return self._call_impl(*args, **kwargs)\n",
      "           ^^^^^^^^^^^^^^^^^^^^^^^^^^^^^^^^\n",
      "  File \"/home/miguel/anaconda3/envs/yolo/lib/python3.11/site-packages/torch/nn/modules/module.py\", line 1520, in _call_impl\n",
      "    return forward_call(*args, **kwargs)\n",
      "           ^^^^^^^^^^^^^^^^^^^^^^^^^^^^^\n",
      "  File \"/home/miguel/anaconda3/envs/yolo/lib/python3.11/site-packages/ultralytics/nn/tasks.py\", line 88, in forward\n",
      "    return self.loss(x, *args, **kwargs)\n",
      "           ^^^^^^^^^^^^^^^^^^^^^^^^^^^^^\n",
      "  File \"/home/miguel/anaconda3/envs/yolo/lib/python3.11/site-packages/ultralytics/nn/tasks.py\", line 266, in loss\n",
      "    preds = self.forward(batch[\"img\"]) if preds is None else preds\n",
      "            ^^^^^^^^^^^^^^^^^^^^^^^^^^\n",
      "  File \"/home/miguel/anaconda3/envs/yolo/lib/python3.11/site-packages/ultralytics/nn/tasks.py\", line 89, in forward\n",
      "    return self.predict(x, *args, **kwargs)\n",
      "           ^^^^^^^^^^^^^^^^^^^^^^^^^^^^^^^^\n",
      "  File \"/home/miguel/anaconda3/envs/yolo/lib/python3.11/site-packages/ultralytics/nn/tasks.py\", line 107, in predict\n",
      "    return self._predict_once(x, profile, visualize, embed)\n",
      "           ^^^^^^^^^^^^^^^^^^^^^^^^^^^^^^^^^^^^^^^^^^^^^^^^\n",
      "  File \"/home/miguel/anaconda3/envs/yolo/lib/python3.11/site-packages/ultralytics/nn/tasks.py\", line 128, in _predict_once\n",
      "    x = m(x)  # run\n",
      "        ^^^^\n",
      "  File \"/home/miguel/anaconda3/envs/yolo/lib/python3.11/site-packages/torch/nn/modules/module.py\", line 1511, in _wrapped_call_impl\n",
      "    return self._call_impl(*args, **kwargs)\n",
      "           ^^^^^^^^^^^^^^^^^^^^^^^^^^^^^^^^\n",
      "  File \"/home/miguel/anaconda3/envs/yolo/lib/python3.11/site-packages/torch/nn/modules/module.py\", line 1520, in _call_impl\n",
      "    return forward_call(*args, **kwargs)\n",
      "           ^^^^^^^^^^^^^^^^^^^^^^^^^^^^^\n",
      "  File \"/home/miguel/anaconda3/envs/yolo/lib/python3.11/site-packages/ultralytics/nn/modules/block.py\", line 255, in forward\n",
      "    return self.cv3(torch.cat((self.m(self.cv1(x)), self.cv2(x)), 1))\n",
      "                               ^^^^^^^^^^^^^^^^^^^\n",
      "  File \"/home/miguel/anaconda3/envs/yolo/lib/python3.11/site-packages/torch/nn/modules/module.py\", line 1511, in _wrapped_call_impl\n",
      "    return self._call_impl(*args, **kwargs)\n",
      "           ^^^^^^^^^^^^^^^^^^^^^^^^^^^^^^^^\n",
      "  File \"/home/miguel/anaconda3/envs/yolo/lib/python3.11/site-packages/torch/nn/modules/module.py\", line 1520, in _call_impl\n",
      "    return forward_call(*args, **kwargs)\n",
      "           ^^^^^^^^^^^^^^^^^^^^^^^^^^^^^\n",
      "  File \"/home/miguel/anaconda3/envs/yolo/lib/python3.11/site-packages/torch/nn/modules/container.py\", line 217, in forward\n",
      "    input = module(input)\n",
      "            ^^^^^^^^^^^^^\n",
      "  File \"/home/miguel/anaconda3/envs/yolo/lib/python3.11/site-packages/torch/nn/modules/module.py\", line 1511, in _wrapped_call_impl\n",
      "    return self._call_impl(*args, **kwargs)\n",
      "           ^^^^^^^^^^^^^^^^^^^^^^^^^^^^^^^^\n",
      "  File \"/home/miguel/anaconda3/envs/yolo/lib/python3.11/site-packages/torch/nn/modules/module.py\", line 1520, in _call_impl\n",
      "    return forward_call(*args, **kwargs)\n",
      "           ^^^^^^^^^^^^^^^^^^^^^^^^^^^^^\n",
      "  File \"/home/miguel/anaconda3/envs/yolo/lib/python3.11/site-packages/ultralytics/nn/modules/block.py\", line 341, in forward\n",
      "    return x + self.cv2(self.cv1(x)) if self.add else self.cv2(self.cv1(x))\n",
      "               ^^^^^^^^^^^^^^^^^^^^^\n",
      "  File \"/home/miguel/anaconda3/envs/yolo/lib/python3.11/site-packages/torch/nn/modules/module.py\", line 1511, in _wrapped_call_impl\n",
      "    return self._call_impl(*args, **kwargs)\n",
      "           ^^^^^^^^^^^^^^^^^^^^^^^^^^^^^^^^\n",
      "  File \"/home/miguel/anaconda3/envs/yolo/lib/python3.11/site-packages/torch/nn/modules/module.py\", line 1520, in _call_impl\n",
      "    return forward_call(*args, **kwargs)\n",
      "           ^^^^^^^^^^^^^^^^^^^^^^^^^^^^^\n",
      "  File \"/home/miguel/anaconda3/envs/yolo/lib/python3.11/site-packages/ultralytics/nn/modules/conv.py\", line 50, in forward\n",
      "    return self.act(self.bn(self.conv(x)))\n",
      "                    ^^^^^^^^^^^^^^^^^^^^^\n",
      "  File \"/home/miguel/anaconda3/envs/yolo/lib/python3.11/site-packages/torch/nn/modules/module.py\", line 1511, in _wrapped_call_impl\n",
      "    return self._call_impl(*args, **kwargs)\n",
      "           ^^^^^^^^^^^^^^^^^^^^^^^^^^^^^^^^\n",
      "  File \"/home/miguel/anaconda3/envs/yolo/lib/python3.11/site-packages/torch/nn/modules/module.py\", line 1520, in _call_impl\n",
      "    return forward_call(*args, **kwargs)\n",
      "           ^^^^^^^^^^^^^^^^^^^^^^^^^^^^^\n",
      "  File \"/home/miguel/anaconda3/envs/yolo/lib/python3.11/site-packages/torch/nn/modules/batchnorm.py\", line 175, in forward\n",
      "    return F.batch_norm(\n",
      "           ^^^^^^^^^^^^^\n",
      "  File \"/home/miguel/anaconda3/envs/yolo/lib/python3.11/site-packages/torch/nn/functional.py\", line 2482, in batch_norm\n",
      "    return torch.batch_norm(\n",
      "           ^^^^^^^^^^^^^^^^^\n",
      "torch.cuda.OutOfMemoryError: CUDA out of memory. Tried to allocate 14.00 MiB. GPU 0 has a total capacity of 5.56 GiB of which 12.50 MiB is free. Including non-PyTorch memory, this process has 5.52 GiB memory in use. Of the allocated memory 5.25 GiB is allocated by PyTorch, and 110.76 MiB is reserved by PyTorch but unallocated. If reserved but unallocated memory is large try setting PYTORCH_CUDA_ALLOC_CONF=expandable_segments:True to avoid fragmentation.  See documentation for Memory Management  (https://pytorch.org/docs/stable/notes/cuda.html#environment-variables)\n"
     ]
    }
   ],
   "source": [
    "!yolo task=detect mode=train model=yolov5l6u.pt data={dataset.location}/data.yaml epochs=100 imgsz=640"
   ]
  },
  {
   "cell_type": "code",
   "execution_count": 17,
   "metadata": {},
   "outputs": [
    {
     "data": {
      "text/plain": [
       "'/home/miguel/python_scripts/tennis_yolo/training/tennis-ball-detection-6'"
      ]
     },
     "execution_count": 17,
     "metadata": {},
     "output_type": "execute_result"
    }
   ],
   "source": [
    "dataset.location"
   ]
  },
  {
   "cell_type": "code",
   "execution_count": 18,
   "metadata": {},
   "outputs": [
    {
     "name": "stdout",
     "output_type": "stream",
     "text": [
      "\n",
      "    Arguments received: ['yolo']. Ultralytics 'yolo' commands use the following syntax:\n",
      "\n",
      "        yolo TASK MODE ARGS\n",
      "\n",
      "        Where   TASK (optional) is one of {'detect', 'segment', 'pose', 'obb', 'classify'}\n",
      "                MODE (required) is one of {'export', 'track', 'train', 'val', 'benchmark', 'predict'}\n",
      "                ARGS (optional) are any number of custom 'arg=value' pairs like 'imgsz=320' that override defaults.\n",
      "                    See all ARGS at https://docs.ultralytics.com/usage/cfg or with 'yolo cfg'\n",
      "\n",
      "    1. Train a detection model for 10 epochs with an initial learning_rate of 0.01\n",
      "        yolo train data=coco128.yaml model=yolov8n.pt epochs=10 lr0=0.01\n",
      "\n",
      "    2. Predict a YouTube video using a pretrained segmentation model at image size 320:\n",
      "        yolo predict model=yolov8n-seg.pt source='https://youtu.be/LNwODJXcvt4' imgsz=320\n",
      "\n",
      "    3. Val a pretrained detection model at batch-size 1 and image size 640:\n",
      "        yolo val model=yolov8n.pt data=coco128.yaml batch=1 imgsz=640\n",
      "\n",
      "    4. Export a YOLOv8n classification model to ONNX format at image size 224 by 128 (no TASK required)\n",
      "        yolo export model=yolov8n-cls.pt format=onnx imgsz=224,128\n",
      "\n",
      "    6. Explore your datasets using semantic search and SQL with a simple GUI powered by Ultralytics Explorer API\n",
      "        yolo explorer\n",
      "\n",
      "    5. Run special commands:\n",
      "        yolo help\n",
      "        yolo checks\n",
      "        yolo version\n",
      "        yolo settings\n",
      "        yolo copy-cfg\n",
      "        yolo cfg\n",
      "\n",
      "    Docs: https://docs.ultralytics.com\n",
      "    Community: https://community.ultralytics.com\n",
      "    GitHub: https://github.com/ultralytics/ultralytics\n",
      "    \n"
     ]
    }
   ],
   "source": [
    "!yolo"
   ]
  },
  {
   "cell_type": "code",
   "execution_count": null,
   "metadata": {},
   "outputs": [],
   "source": []
  }
 ],
 "metadata": {
  "kernelspec": {
   "display_name": "Python 3 (ipykernel)",
   "language": "python",
   "name": "python3"
  },
  "language_info": {
   "codemirror_mode": {
    "name": "ipython",
    "version": 3
   },
   "file_extension": ".py",
   "mimetype": "text/x-python",
   "name": "python",
   "nbconvert_exporter": "python",
   "pygments_lexer": "ipython3",
   "version": "3.11.8"
  }
 },
 "nbformat": 4,
 "nbformat_minor": 4
}
